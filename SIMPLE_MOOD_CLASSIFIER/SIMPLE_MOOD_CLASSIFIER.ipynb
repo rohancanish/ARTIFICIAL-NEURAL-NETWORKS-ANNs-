{
 "cells": [
  {
   "cell_type": "code",
   "execution_count": 1,
   "id": "f6d8ee6f-f4b3-4a7c-aaf8-eaf192a3f15c",
   "metadata": {},
   "outputs": [
    {
     "name": "stdout",
     "output_type": "stream",
     "text": [
      "Text: \"I am so happy today!\" | Predicted Mood: happy\n",
      "Text: \"This makes me really angry!\" | Predicted Mood: angry\n",
      "Text: \"I feel sad about the news.\" | Predicted Mood: sad\n",
      "Text: \"What a wonderful day!\" | Predicted Mood: happy\n",
      "Text: \"I am just okay.\" | Predicted Mood: neutral\n"
     ]
    }
   ],
   "source": [
    "# Simple Mood Classifier\n",
    "\n",
    "def classify_mood(text):\n",
    "    # Define simple mood keywords\n",
    "    mood_keywords = {\n",
    "        'happy': ['happy', 'joy', 'love', 'great', 'wonderful'],\n",
    "        'sad': ['sad', 'unhappy', 'bad', 'upset', 'blue'],\n",
    "        'angry': ['angry', 'hate', 'frustrated', 'mad', 'irritated']\n",
    "    }\n",
    "    \n",
    "    # Convert text to lowercase for matching\n",
    "    text = text.lower()\n",
    "\n",
    "    # Check for keywords in the text\n",
    "    for mood, keywords in mood_keywords.items():\n",
    "        for keyword in keywords:\n",
    "            if keyword in text:\n",
    "                return mood\n",
    "    return 'neutral'  # Default mood if no keywords are found\n",
    "\n",
    "# Example usage\n",
    "sample_texts = [\n",
    "    \"I am so happy today!\",\n",
    "    \"This makes me really angry!\",\n",
    "    \"I feel sad about the news.\",\n",
    "    \"What a wonderful day!\",\n",
    "    \"I am just okay.\"\n",
    "]\n",
    "\n",
    "# Classify moods\n",
    "for text in sample_texts:\n",
    "    mood = classify_mood(text)\n",
    "    print(f'Text: \"{text}\" | Predicted Mood: {mood}')\n"
   ]
  },
  {
   "cell_type": "code",
   "execution_count": null,
   "id": "bdfb0855-abfe-4533-8558-f6a7a0a686d1",
   "metadata": {},
   "outputs": [],
   "source": []
  }
 ],
 "metadata": {
  "kernelspec": {
   "display_name": "Python 3 (ipykernel)",
   "language": "python",
   "name": "python3"
  },
  "language_info": {
   "codemirror_mode": {
    "name": "ipython",
    "version": 3
   },
   "file_extension": ".py",
   "mimetype": "text/x-python",
   "name": "python",
   "nbconvert_exporter": "python",
   "pygments_lexer": "ipython3",
   "version": "3.8.10"
  }
 },
 "nbformat": 4,
 "nbformat_minor": 5
}
